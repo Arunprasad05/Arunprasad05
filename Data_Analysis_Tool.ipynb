{
  "nbformat": 4,
  "nbformat_minor": 0,
  "metadata": {
    "colab": {
      "provenance": [],
      "authorship_tag": "ABX9TyPJq0kQ5qJrLmJTN8Ik395/",
      "include_colab_link": true
    },
    "kernelspec": {
      "name": "python3",
      "display_name": "Python 3"
    },
    "language_info": {
      "name": "python"
    }
  },
  "cells": [
    {
      "cell_type": "markdown",
      "metadata": {
        "id": "view-in-github",
        "colab_type": "text"
      },
      "source": [
        "<a href=\"https://colab.research.google.com/github/Arunprasad05/Arunprasad05/blob/main/Data_Analysis_Tool.ipynb\" target=\"_parent\"><img src=\"https://colab.research.google.com/assets/colab-badge.svg\" alt=\"Open In Colab\"/></a>"
      ]
    },
    {
      "cell_type": "code",
      "metadata": {
        "colab": {
          "base_uri": "https://localhost:8080/"
        },
        "id": "b6cfbe10",
        "outputId": "88bf315b-9d43-47aa-dc66-00b8163e4c27"
      },
      "source": [
        "%pip install pandas openpyxl matplotlib seaborn scikit-learn gradio\n",
        "\n",
        "import pandas as pd\n",
        "import numpy as np\n",
        "import matplotlib.pyplot as plt\n",
        "import seaborn as sns\n",
        "from sklearn.impute import SimpleImputer\n",
        "import gradio as gr\n",
        "import io"
      ],
      "execution_count": 2,
      "outputs": [
        {
          "output_type": "stream",
          "name": "stdout",
          "text": [
            "Requirement already satisfied: pandas in /usr/local/lib/python3.11/dist-packages (2.2.2)\n",
            "Requirement already satisfied: openpyxl in /usr/local/lib/python3.11/dist-packages (3.1.5)\n",
            "Requirement already satisfied: matplotlib in /usr/local/lib/python3.11/dist-packages (3.10.0)\n",
            "Requirement already satisfied: seaborn in /usr/local/lib/python3.11/dist-packages (0.13.2)\n",
            "Requirement already satisfied: scikit-learn in /usr/local/lib/python3.11/dist-packages (1.6.1)\n",
            "Requirement already satisfied: gradio in /usr/local/lib/python3.11/dist-packages (5.31.0)\n",
            "Requirement already satisfied: numpy>=1.23.2 in /usr/local/lib/python3.11/dist-packages (from pandas) (2.0.2)\n",
            "Requirement already satisfied: python-dateutil>=2.8.2 in /usr/local/lib/python3.11/dist-packages (from pandas) (2.9.0.post0)\n",
            "Requirement already satisfied: pytz>=2020.1 in /usr/local/lib/python3.11/dist-packages (from pandas) (2025.2)\n",
            "Requirement already satisfied: tzdata>=2022.7 in /usr/local/lib/python3.11/dist-packages (from pandas) (2025.2)\n",
            "Requirement already satisfied: et-xmlfile in /usr/local/lib/python3.11/dist-packages (from openpyxl) (2.0.0)\n",
            "Requirement already satisfied: contourpy>=1.0.1 in /usr/local/lib/python3.11/dist-packages (from matplotlib) (1.3.2)\n",
            "Requirement already satisfied: cycler>=0.10 in /usr/local/lib/python3.11/dist-packages (from matplotlib) (0.12.1)\n",
            "Requirement already satisfied: fonttools>=4.22.0 in /usr/local/lib/python3.11/dist-packages (from matplotlib) (4.58.4)\n",
            "Requirement already satisfied: kiwisolver>=1.3.1 in /usr/local/lib/python3.11/dist-packages (from matplotlib) (1.4.8)\n",
            "Requirement already satisfied: packaging>=20.0 in /usr/local/lib/python3.11/dist-packages (from matplotlib) (24.2)\n",
            "Requirement already satisfied: pillow>=8 in /usr/local/lib/python3.11/dist-packages (from matplotlib) (11.2.1)\n",
            "Requirement already satisfied: pyparsing>=2.3.1 in /usr/local/lib/python3.11/dist-packages (from matplotlib) (3.2.3)\n",
            "Requirement already satisfied: scipy>=1.6.0 in /usr/local/lib/python3.11/dist-packages (from scikit-learn) (1.15.3)\n",
            "Requirement already satisfied: joblib>=1.2.0 in /usr/local/lib/python3.11/dist-packages (from scikit-learn) (1.5.1)\n",
            "Requirement already satisfied: threadpoolctl>=3.1.0 in /usr/local/lib/python3.11/dist-packages (from scikit-learn) (3.6.0)\n",
            "Requirement already satisfied: aiofiles<25.0,>=22.0 in /usr/local/lib/python3.11/dist-packages (from gradio) (24.1.0)\n",
            "Requirement already satisfied: anyio<5.0,>=3.0 in /usr/local/lib/python3.11/dist-packages (from gradio) (4.9.0)\n",
            "Requirement already satisfied: fastapi<1.0,>=0.115.2 in /usr/local/lib/python3.11/dist-packages (from gradio) (0.115.12)\n",
            "Requirement already satisfied: ffmpy in /usr/local/lib/python3.11/dist-packages (from gradio) (0.6.0)\n",
            "Requirement already satisfied: gradio-client==1.10.1 in /usr/local/lib/python3.11/dist-packages (from gradio) (1.10.1)\n",
            "Requirement already satisfied: groovy~=0.1 in /usr/local/lib/python3.11/dist-packages (from gradio) (0.1.2)\n",
            "Requirement already satisfied: httpx>=0.24.1 in /usr/local/lib/python3.11/dist-packages (from gradio) (0.28.1)\n",
            "Requirement already satisfied: huggingface-hub>=0.28.1 in /usr/local/lib/python3.11/dist-packages (from gradio) (0.33.0)\n",
            "Requirement already satisfied: jinja2<4.0 in /usr/local/lib/python3.11/dist-packages (from gradio) (3.1.6)\n",
            "Requirement already satisfied: markupsafe<4.0,>=2.0 in /usr/local/lib/python3.11/dist-packages (from gradio) (3.0.2)\n",
            "Requirement already satisfied: orjson~=3.0 in /usr/local/lib/python3.11/dist-packages (from gradio) (3.10.18)\n",
            "Requirement already satisfied: pydantic<2.12,>=2.0 in /usr/local/lib/python3.11/dist-packages (from gradio) (2.11.7)\n",
            "Requirement already satisfied: pydub in /usr/local/lib/python3.11/dist-packages (from gradio) (0.25.1)\n",
            "Requirement already satisfied: python-multipart>=0.0.18 in /usr/local/lib/python3.11/dist-packages (from gradio) (0.0.20)\n",
            "Requirement already satisfied: pyyaml<7.0,>=5.0 in /usr/local/lib/python3.11/dist-packages (from gradio) (6.0.2)\n",
            "Requirement already satisfied: ruff>=0.9.3 in /usr/local/lib/python3.11/dist-packages (from gradio) (0.11.13)\n",
            "Requirement already satisfied: safehttpx<0.2.0,>=0.1.6 in /usr/local/lib/python3.11/dist-packages (from gradio) (0.1.6)\n",
            "Requirement already satisfied: semantic-version~=2.0 in /usr/local/lib/python3.11/dist-packages (from gradio) (2.10.0)\n",
            "Requirement already satisfied: starlette<1.0,>=0.40.0 in /usr/local/lib/python3.11/dist-packages (from gradio) (0.46.2)\n",
            "Requirement already satisfied: tomlkit<0.14.0,>=0.12.0 in /usr/local/lib/python3.11/dist-packages (from gradio) (0.13.3)\n",
            "Requirement already satisfied: typer<1.0,>=0.12 in /usr/local/lib/python3.11/dist-packages (from gradio) (0.16.0)\n",
            "Requirement already satisfied: typing-extensions~=4.0 in /usr/local/lib/python3.11/dist-packages (from gradio) (4.14.0)\n",
            "Requirement already satisfied: uvicorn>=0.14.0 in /usr/local/lib/python3.11/dist-packages (from gradio) (0.34.3)\n",
            "Requirement already satisfied: fsspec in /usr/local/lib/python3.11/dist-packages (from gradio-client==1.10.1->gradio) (2025.3.2)\n",
            "Requirement already satisfied: websockets<16.0,>=10.0 in /usr/local/lib/python3.11/dist-packages (from gradio-client==1.10.1->gradio) (15.0.1)\n",
            "Requirement already satisfied: idna>=2.8 in /usr/local/lib/python3.11/dist-packages (from anyio<5.0,>=3.0->gradio) (3.10)\n",
            "Requirement already satisfied: sniffio>=1.1 in /usr/local/lib/python3.11/dist-packages (from anyio<5.0,>=3.0->gradio) (1.3.1)\n",
            "Requirement already satisfied: certifi in /usr/local/lib/python3.11/dist-packages (from httpx>=0.24.1->gradio) (2025.6.15)\n",
            "Requirement already satisfied: httpcore==1.* in /usr/local/lib/python3.11/dist-packages (from httpx>=0.24.1->gradio) (1.0.9)\n",
            "Requirement already satisfied: h11>=0.16 in /usr/local/lib/python3.11/dist-packages (from httpcore==1.*->httpx>=0.24.1->gradio) (0.16.0)\n",
            "Requirement already satisfied: filelock in /usr/local/lib/python3.11/dist-packages (from huggingface-hub>=0.28.1->gradio) (3.18.0)\n",
            "Requirement already satisfied: requests in /usr/local/lib/python3.11/dist-packages (from huggingface-hub>=0.28.1->gradio) (2.32.3)\n",
            "Requirement already satisfied: tqdm>=4.42.1 in /usr/local/lib/python3.11/dist-packages (from huggingface-hub>=0.28.1->gradio) (4.67.1)\n",
            "Requirement already satisfied: hf-xet<2.0.0,>=1.1.2 in /usr/local/lib/python3.11/dist-packages (from huggingface-hub>=0.28.1->gradio) (1.1.3)\n",
            "Requirement already satisfied: annotated-types>=0.6.0 in /usr/local/lib/python3.11/dist-packages (from pydantic<2.12,>=2.0->gradio) (0.7.0)\n",
            "Requirement already satisfied: pydantic-core==2.33.2 in /usr/local/lib/python3.11/dist-packages (from pydantic<2.12,>=2.0->gradio) (2.33.2)\n",
            "Requirement already satisfied: typing-inspection>=0.4.0 in /usr/local/lib/python3.11/dist-packages (from pydantic<2.12,>=2.0->gradio) (0.4.1)\n",
            "Requirement already satisfied: six>=1.5 in /usr/local/lib/python3.11/dist-packages (from python-dateutil>=2.8.2->pandas) (1.17.0)\n",
            "Requirement already satisfied: click>=8.0.0 in /usr/local/lib/python3.11/dist-packages (from typer<1.0,>=0.12->gradio) (8.2.1)\n",
            "Requirement already satisfied: shellingham>=1.3.0 in /usr/local/lib/python3.11/dist-packages (from typer<1.0,>=0.12->gradio) (1.5.4)\n",
            "Requirement already satisfied: rich>=10.11.0 in /usr/local/lib/python3.11/dist-packages (from typer<1.0,>=0.12->gradio) (13.9.4)\n",
            "Requirement already satisfied: markdown-it-py>=2.2.0 in /usr/local/lib/python3.11/dist-packages (from rich>=10.11.0->typer<1.0,>=0.12->gradio) (3.0.0)\n",
            "Requirement already satisfied: pygments<3.0.0,>=2.13.0 in /usr/local/lib/python3.11/dist-packages (from rich>=10.11.0->typer<1.0,>=0.12->gradio) (2.19.1)\n",
            "Requirement already satisfied: charset-normalizer<4,>=2 in /usr/local/lib/python3.11/dist-packages (from requests->huggingface-hub>=0.28.1->gradio) (3.4.2)\n",
            "Requirement already satisfied: urllib3<3,>=1.21.1 in /usr/local/lib/python3.11/dist-packages (from requests->huggingface-hub>=0.28.1->gradio) (2.4.0)\n",
            "Requirement already satisfied: mdurl~=0.1 in /usr/local/lib/python3.11/dist-packages (from markdown-it-py>=2.2.0->rich>=10.11.0->typer<1.0,>=0.12->gradio) (0.1.2)\n"
          ]
        }
      ]
    },
    {
      "cell_type": "markdown",
      "metadata": {
        "id": "03b9cdf7"
      },
      "source": [
        "Now, let's create a function to handle file uploads and load the data into a pandas DataFrame. We'll include basic support for CSV and Excel files."
      ]
    },
    {
      "cell_type": "code",
      "metadata": {
        "id": "4949e397"
      },
      "source": [
        "def load_data(file):\n",
        "    \"\"\"\n",
        "    Handles file upload and loads data into a pandas DataFrame.\n",
        "    Supports CSV and Excel formats.\n",
        "\n",
        "    Args:\n",
        "        file: The uploaded file object from Gradio.\n",
        "\n",
        "    Returns:\n",
        "        A pandas DataFrame containing the data, or None if the file format is not supported or an error occurs.\n",
        "    \"\"\"\n",
        "    if file is None:\n",
        "        return None\n",
        "\n",
        "    file_path = file.name\n",
        "\n",
        "    try:\n",
        "        if file_path.endswith('.csv'):\n",
        "            df = pd.read_csv(file_path)\n",
        "        elif file_path.endswith(('.xls', '.xlsx')):\n",
        "            df = pd.read_excel(file_path)\n",
        "        else:\n",
        "            return None # Unsupported file format\n",
        "\n",
        "        return df\n",
        "\n",
        "    except Exception as e:\n",
        "        print(f\"Error loading file: {e}\")\n",
        "        return None"
      ],
      "execution_count": 3,
      "outputs": []
    },
    {
      "cell_type": "markdown",
      "metadata": {
        "id": "9f5f9125"
      },
      "source": [
        "Let's create a function for basic data cleaning, including handling missing values and duplicates."
      ]
    },
    {
      "cell_type": "code",
      "metadata": {
        "id": "82b6edc4"
      },
      "source": [
        "def clean_data(df):\n",
        "    \"\"\"\n",
        "    Performs basic data cleaning: handles missing values (fills with median for numeric, mode for categorical)\n",
        "    and removes duplicate rows.\n",
        "\n",
        "    Args:\n",
        "        df: The input pandas DataFrame.\n",
        "\n",
        "    Returns:\n",
        "        A cleaned pandas DataFrame.\n",
        "    \"\"\"\n",
        "    if df is None:\n",
        "        return None\n",
        "\n",
        "    # Handle missing values\n",
        "    for col in df.columns:\n",
        "        if df[col].isnull().any():\n",
        "            if df[col].dtype in ['int64', 'float64']:\n",
        "                # Fill numeric missing values with median\n",
        "                median_val = df[col].median()\n",
        "                df[col].fillna(median_val, inplace=True)\n",
        "            else:\n",
        "                # Fill categorical missing values with mode\n",
        "                mode_val = df[col].mode()[0] if not df[col].mode().empty else None\n",
        "                if mode_val is not None:\n",
        "                    df[col].fillna(mode_val, inplace=True)\n",
        "\n",
        "    # Remove duplicate rows\n",
        "    df.drop_duplicates(inplace=True)\n",
        "\n",
        "    return df"
      ],
      "execution_count": 4,
      "outputs": []
    },
    {
      "cell_type": "markdown",
      "metadata": {
        "id": "a3873bf5"
      },
      "source": [
        "Next, let's create a function to calculate descriptive statistics."
      ]
    },
    {
      "cell_type": "code",
      "metadata": {
        "id": "add69532"
      },
      "source": [
        "def get_descriptive_stats(df):\n",
        "    \"\"\"\n",
        "    Calculates and returns descriptive statistics for the DataFrame.\n",
        "\n",
        "    Args:\n",
        "        df: The input pandas DataFrame.\n",
        "\n",
        "    Returns:\n",
        "        A pandas DataFrame with descriptive statistics.\n",
        "    \"\"\"\n",
        "    if df is None:\n",
        "        return None\n",
        "    return df.describe(include='all')"
      ],
      "execution_count": 5,
      "outputs": []
    },
    {
      "cell_type": "markdown",
      "metadata": {
        "id": "d31af797"
      },
      "source": [
        "Now, let's create a function for generating basic plots (histograms, scatter plots, box plots)."
      ]
    },
    {
      "cell_type": "code",
      "metadata": {
        "id": "b23e2294"
      },
      "source": [
        "def generate_plots(df):\n",
        "    \"\"\"\n",
        "    Generates basic plots (histograms for numeric, count plots for categorical,\n",
        "    scatter plots for numeric pairs, and box plots for numeric).\n",
        "\n",
        "    Args:\n",
        "        df: The input pandas DataFrame.\n",
        "\n",
        "    Returns:\n",
        "        A list of plot figures.\n",
        "    \"\"\"\n",
        "    if df is None:\n",
        "        return []\n",
        "\n",
        "    plots = []\n",
        "    numeric_cols = df.select_dtypes(include=np.number).columns\n",
        "    categorical_cols = df.select_dtypes(include='object').columns\n",
        "\n",
        "    # Histograms for numeric columns\n",
        "    for col in numeric_cols:\n",
        "        fig, ax = plt.subplots()\n",
        "        sns.histplot(df[col], kde=True, ax=ax)\n",
        "        ax.set_title(f'Histogram of {col}')\n",
        "        plots.append(fig)\n",
        "\n",
        "    # Count plots for categorical columns\n",
        "    for col in categorical_cols:\n",
        "        fig, ax = plt.subplots()\n",
        "        sns.countplot(y=df[col], order=df[col].value_counts().index, ax=ax)\n",
        "        ax.set_title(f'Count Plot of {col}')\n",
        "        plots.append(fig)\n",
        "\n",
        "\n",
        "    # Scatter plots for pairs of numeric columns\n",
        "    if len(numeric_cols) > 1:\n",
        "        for i in range(len(numeric_cols)):\n",
        "            for j in range(i + 1, len(numeric_cols)):\n",
        "                col1 = numeric_cols[i]\n",
        "                col2 = numeric_cols[j]\n",
        "                fig, ax = plt.subplots()\n",
        "                sns.scatterplot(x=df[col1], y=df[col2], ax=ax)\n",
        "                ax.set_title(f'Scatter Plot of {col1} vs {col2}')\n",
        "                plots.append(fig)\n",
        "\n",
        "    # Box plots for numeric columns\n",
        "    for col in numeric_cols:\n",
        "        fig, ax = plt.subplots()\n",
        "        sns.boxplot(y=df[col], ax=ax)\n",
        "        ax.set_title(f'Box Plot of {col}')\n",
        "        plots.append(fig)\n",
        "\n",
        "\n",
        "    return plots"
      ],
      "execution_count": 6,
      "outputs": []
    },
    {
      "cell_type": "markdown",
      "metadata": {
        "id": "14c262ef"
      },
      "source": [
        "Finally, let's create a function for simple correlation analysis."
      ]
    },
    {
      "cell_type": "code",
      "metadata": {
        "id": "c4d4decb"
      },
      "source": [
        "def analyze_correlation(df):\n",
        "    \"\"\"\n",
        "    Calculates and visualizes the correlation matrix for numeric columns.\n",
        "\n",
        "    Args:\n",
        "        df: The input pandas DataFrame.\n",
        "\n",
        "    Returns:\n",
        "        A tuple containing the correlation matrix (pandas DataFrame) and the heatmap figure.\n",
        "    \"\"\"\n",
        "    if df is None:\n",
        "        return None, None\n",
        "\n",
        "    numeric_df = df.select_dtypes(include=np.number)\n",
        "    if numeric_df.empty:\n",
        "        return \"No numeric columns for correlation analysis.\", None\n",
        "\n",
        "    correlation_matrix = numeric_df.corr()\n",
        "\n",
        "    fig, ax = plt.subplots(figsize=(10, 8))\n",
        "    sns.heatmap(correlation_matrix, annot=True, cmap='coolwarm', fmt=\".2f\", ax=ax)\n",
        "    ax.set_title('Correlation Matrix')\n",
        "\n",
        "    return correlation_matrix, fig"
      ],
      "execution_count": 7,
      "outputs": []
    },
    {
      "cell_type": "markdown",
      "metadata": {
        "id": "10de4a5c"
      },
      "source": [
        "Let's create the Gradio interface. We'll include components for file upload and buttons for each analysis task."
      ]
    },
    {
      "cell_type": "code",
      "metadata": {
        "colab": {
          "base_uri": "https://localhost:8080/",
          "height": 646
        },
        "id": "2a2e8ffa",
        "outputId": "8c4819f6-0fc9-4a34-c5de-c0096a7ff7c7"
      },
      "source": [
        "def analyze_data(file):\n",
        "    \"\"\"\n",
        "    Loads, cleans, and performs all analysis tasks on the uploaded file.\n",
        "\n",
        "    Args:\n",
        "        file: The uploaded file object from Gradio.\n",
        "\n",
        "    Returns:\n",
        "        A tuple containing a status message, the cleaned DataFrame, cleaned data info, descriptive statistics,\n",
        "        a list of plot figures, and the correlation matrix and heatmap.\n",
        "    \"\"\"\n",
        "    df = load_data(file)\n",
        "    if df is None:\n",
        "        return \"Error loading data or unsupported file format.\", None, None, None, [], None, None\n",
        "\n",
        "    try:\n",
        "        cleaned_df = clean_data(df.copy()) # Create a copy to avoid modifying the original df\n",
        "        cleaned_data_info = f\"Shape of cleaned data: {cleaned_df.shape[0]} rows, {cleaned_df.shape[1]} columns\"\n",
        "    except Exception as e:\n",
        "        return f\"Error during data cleaning: {e}\", None, None, None, [], None, None\n",
        "\n",
        "    try:\n",
        "        descriptive_stats = get_descriptive_stats(cleaned_df)\n",
        "        # Convert index to a column for clearer display in Gradio\n",
        "        if isinstance(descriptive_stats, pd.DataFrame):\n",
        "            descriptive_stats = descriptive_stats.reset_index().rename(columns={'index': 'Statistic'})\n",
        "    except Exception as e:\n",
        "        return f\"Error getting descriptive statistics: {e}\", cleaned_df, cleaned_data_info, None, [], None, None\n",
        "\n",
        "    try:\n",
        "        plots = generate_plots(cleaned_df)\n",
        "    except Exception as e:\n",
        "        return f\"Error generating plots: {e}\", cleaned_df, cleaned_data_info, descriptive_stats, [], None, None\n",
        "\n",
        "    try:\n",
        "        correlation_matrix, correlation_heatmap = analyze_correlation(cleaned_df)\n",
        "    except Exception as e:\n",
        "         return f\"Error analyzing correlation: {e}\", cleaned_df, cleaned_data_info, descriptive_stats, plots, None, None\n",
        "\n",
        "\n",
        "    # Pad the plots list with None if fewer than 10 plots are generated\n",
        "    padded_plots = plots + [None] * (10 - len(plots)) if len(plots) < 10 else plots[:10]\n",
        "\n",
        "\n",
        "    return \"Analysis Complete\", cleaned_df, cleaned_data_info, descriptive_stats, *padded_plots, correlation_matrix, correlation_heatmap\n",
        "\n",
        "# Create the Gradio interface\n",
        "with gr.Blocks() as demo:\n",
        "    gr.Markdown(\"## Interactive Data Analysis Agent\")\n",
        "    file_input = gr.File(label=\"Upload your data file (CSV or Excel)\")\n",
        "    analyze_button = gr.Button(\"Analyze Data\")\n",
        "    status_output = gr.Textbox(label=\"Status\")\n",
        "\n",
        "\n",
        "    with gr.Tabs():\n",
        "        with gr.TabItem(\"Cleaned Data\"):\n",
        "            cleaned_data_info_output = gr.Textbox(label=\"Cleaned Data Information\")\n",
        "            cleaned_data_output = gr.DataFrame()\n",
        "        with gr.TabItem(\"Descriptive Statistics\"):\n",
        "            descriptive_stats_output = gr.DataFrame()\n",
        "        with gr.TabItem(\"Plots\"):\n",
        "            plot_outputs = [gr.Plot() for _ in range(10)] # Placeholder for multiple plots\n",
        "        with gr.TabItem(\"Correlation Analysis\"):\n",
        "            correlation_matrix_output = gr.DataFrame()\n",
        "            correlation_heatmap_output = gr.Plot()\n",
        "\n",
        "    analyze_button.click(\n",
        "        analyze_data,\n",
        "        inputs=file_input,\n",
        "        outputs=[status_output, cleaned_data_output, cleaned_data_info_output, descriptive_stats_output, *plot_outputs, correlation_matrix_output, correlation_heatmap_output]\n",
        "    )\n",
        "\n",
        "# To run the interface, uncomment the following line:\n",
        "demo.launch()"
      ],
      "execution_count": 15,
      "outputs": [
        {
          "output_type": "stream",
          "name": "stdout",
          "text": [
            "It looks like you are running Gradio on a hosted a Jupyter notebook. For the Gradio app to work, sharing must be enabled. Automatically setting `share=True` (you can turn this off by setting `share=False` in `launch()` explicitly).\n",
            "\n",
            "Colab notebook detected. To show errors in colab notebook, set debug=True in launch()\n",
            "* Running on public URL: https://651a50f6a17c9e6d80.gradio.live\n",
            "\n",
            "This share link expires in 1 week. For free permanent hosting and GPU upgrades, run `gradio deploy` from the terminal in the working directory to deploy to Hugging Face Spaces (https://huggingface.co/spaces)\n"
          ]
        },
        {
          "output_type": "display_data",
          "data": {
            "text/plain": [
              "<IPython.core.display.HTML object>"
            ],
            "text/html": [
              "<div><iframe src=\"https://651a50f6a17c9e6d80.gradio.live\" width=\"100%\" height=\"500\" allow=\"autoplay; camera; microphone; clipboard-read; clipboard-write;\" frameborder=\"0\" allowfullscreen></iframe></div>"
            ]
          },
          "metadata": {}
        },
        {
          "output_type": "execute_result",
          "data": {
            "text/plain": []
          },
          "metadata": {},
          "execution_count": 15
        }
      ]
    },
    {
      "cell_type": "markdown",
      "metadata": {
        "id": "8655a1a6"
      },
      "source": [
        "**Note:** To run the Gradio interface, you'll need to uncomment `demo.launch()` in the code cell above and execute it."
      ]
    }
  ]
}